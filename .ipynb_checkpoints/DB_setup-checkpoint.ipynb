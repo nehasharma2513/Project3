{
 "cells": [
  {
   "cell_type": "markdown",
   "id": "064ef857",
   "metadata": {},
   "source": [
    "## Books Database Set Up"
   ]
  },
  {
   "cell_type": "code",
   "execution_count": 1,
   "id": "3ecdd008",
   "metadata": {},
   "outputs": [],
   "source": [
    "# Import dependencies\n",
    "from pymongo import MongoClient\n",
    "from pprint import pprint"
   ]
  },
  {
   "cell_type": "code",
   "execution_count": 2,
   "id": "59390c4a",
   "metadata": {},
   "outputs": [],
   "source": [
    "# Create an instance of MongoClient\n",
    "mongo = MongoClient(port=27017)"
   ]
  },
  {
   "cell_type": "code",
   "execution_count": 3,
   "id": "b4a9af91",
   "metadata": {},
   "outputs": [
    {
     "name": "stdout",
     "output_type": "stream",
     "text": [
<<<<<<< Updated upstream
      "2023-12-07T11:56:01.440-0500\tconnected to: mongodb://localhost/\n",
      "2023-12-07T11:56:01.441-0500\tdropping: books_db.books\n",
      "2023-12-07T11:56:01.520-0500\t6 document(s) imported successfully. 0 document(s) failed to import.\n",
      "2023-12-07T11:56:01.664-0500\tconnected to: mongodb://localhost/\n",
      "2023-12-07T11:56:01.664-0500\tdropping: books_db.users\n",
      "2023-12-07T11:56:01.695-0500\t6 document(s) imported successfully. 0 document(s) failed to import.\n",
      "2023-12-07T11:56:01.850-0500\tconnected to: mongodb://localhost/\n",
      "2023-12-07T11:56:01.850-0500\tdropping: books_db.ratings\n",
      "2023-12-07T11:56:01.887-0500\t10 document(s) imported successfully. 0 document(s) failed to import.\n",
      "2023-12-07T11:56:02.039-0500\tconnected to: mongodb://localhost/\n",
      "2023-12-07T11:56:02.039-0500\tdropping: books_db.geodata\n",
      "2023-12-07T11:56:02.079-0500\t1 document(s) imported successfully. 0 document(s) failed to import.\n"
=======
      "2023-12-07T23:19:25.959-0500\tconnected to: mongodb://localhost/\n",
      "2023-12-07T23:19:25.960-0500\tdropping: books_db.books\n",
      "2023-12-07T23:19:26.050-0500\t2035 document(s) imported successfully. 0 document(s) failed to import.\n",
      "2023-12-07T23:19:26.193-0500\tconnected to: mongodb://localhost/\n",
      "2023-12-07T23:19:26.193-0500\tdropping: books_db.users\n",
      "2023-12-07T23:19:26.279-0500\t3583 document(s) imported successfully. 0 document(s) failed to import.\n",
      "2023-12-07T23:19:26.434-0500\tconnected to: mongodb://localhost/\n",
      "2023-12-07T23:19:26.434-0500\tdropping: books_db.ratings\n",
      "2023-12-07T23:19:26.548-0500\t4786 document(s) imported successfully. 0 document(s) failed to import.\n",
      "2023-12-07T23:19:26.693-0500\tconnected to: mongodb://localhost/\n",
      "2023-12-07T23:19:26.694-0500\tdropping: books_db.geodata\n",
      "2023-12-07T23:19:26.729-0500\t48 document(s) imported successfully. 0 document(s) failed to import.\n"
>>>>>>> Stashed changes
     ]
    }
   ],
   "source": [
    "!mongoimport --type csv -d books_db -c books --headerline --drop Resources/Books.csv\n",
    "!mongoimport --type csv -d books_db -c users --headerline --drop Resources/Users.csv\n",
    "!mongoimport --type csv -d books_db -c ratings --headerline --drop Resources/Ratings.csv\n",
    "!mongoimport --type csv -d books_db -c geodata --headerline --drop Resources/GeoLoc.csv"
   ]
  },
  {
   "cell_type": "code",
   "execution_count": 4,
   "id": "7f9ececa",
   "metadata": {},
   "outputs": [
    {
     "data": {
      "text/plain": [
       "['admin', 'books_db', 'config', 'local', 'met', 'uk_food']"
      ]
     },
     "execution_count": 4,
     "metadata": {},
     "output_type": "execute_result"
    }
   ],
   "source": [
    "# confirm that our new database was created\n",
    "mongo.list_database_names()"
   ]
  },
  {
   "cell_type": "code",
   "execution_count": 5,
   "id": "71e373c1",
   "metadata": {},
   "outputs": [],
   "source": [
    "# assign the uk_food database to a variable name\n",
    "db = mongo['books_db']"
   ]
  },
  {
   "cell_type": "code",
   "execution_count": null,
   "id": "f11ec792",
   "metadata": {},
   "outputs": [],
   "source": [
    "collections_to_drop_list=['merged','merged_ratings_users','merged_users_geo']\n",
    "for i in collections_to_drop_list:\n",
    "    if i in db.list_collection_names():\n",
    "        db[i].drop()"
   ]
  },
  {
   "cell_type": "code",
   "execution_count": 6,
   "id": "8037f45d",
   "metadata": {},
   "outputs": [],
<<<<<<< Updated upstream
   "source": [
    "db['merged'].drop()\n",
    "db['merged_ratings_users'].drop()\n",
    "db['merged_users_geo'].drop()"
   ]
=======
   "source": []
>>>>>>> Stashed changes
  },
  {
   "cell_type": "code",
   "execution_count": 7,
   "id": "ef1b89ed",
   "metadata": {},
   "outputs": [
    {
     "data": {
      "text/plain": [
<<<<<<< Updated upstream
       "['users', 'books', 'ratings', 'geodata']"
=======
       "['books', 'ratings', 'geodata', 'users']"
>>>>>>> Stashed changes
      ]
     },
     "execution_count": 7,
     "metadata": {},
     "output_type": "execute_result"
    }
   ],
   "source": [
    "# review the collections in our new database\n",
    "db.list_collection_names()"
   ]
  },
  {
   "cell_type": "code",
   "execution_count": 8,
   "id": "18ab463c",
   "metadata": {},
   "outputs": [],
   "source": [
    "# assign the collection to a variable\n",
    "books=db['books']\n",
    "ratings=db['ratings']\n",
    "users=db['users']\n",
    "geodata=db['geodata']"
   ]
  },
  {
   "cell_type": "code",
   "execution_count": 9,
   "id": "bc773df2",
   "metadata": {},
   "outputs": [
    {
     "name": "stdout",
     "output_type": "stream",
     "text": [
      "Example of a record within 'books' collection: \n",
      "{'': 0,\n",
      " 'Book-Author': 'Mark P. O. Morford',\n",
      " 'Book-Title': 'Classical Mythology',\n",
      " 'ISBN': 195153448,\n",
      " 'Publisher': 'Oxford University Press',\n",
      " 'Year-Of-Publication': 2002,\n",
<<<<<<< Updated upstream
      " '_id': ObjectId('6571f921843ff00d28c68e3e')}\n",
      "\n",
      " Example of a record within 'ratings' collection:\n",
      "{'Book-Rating': 5,\n",
      " 'ISBN': 133,\n",
      " 'User-ID': 2,\n",
      " '_id': ObjectId('6571f92143633a361fada347')}\n",
      "\n",
      " Example of a record within 'users' collection:\n",
      "{'Age': 34,\n",
      " 'Location': 'Mexico',\n",
      " 'User-ID': 2,\n",
      " '_id': ObjectId('6571f92101f19817570dd4ec')}\n",
      "\n",
      " Example of a record within 'geodata' collection:\n",
      "{'Lat': 54.235921,\n",
      " 'Long': -4.5147671,\n",
      " '_id': ObjectId('6571f922114074a52f6998d6'),\n",
      " 'country': 'Mexico'}\n"
=======
      " '_id': ObjectId('6572994d941cd578e6ba9b92')}\n",
      "\n",
      " Example of a record within 'ratings' collection:\n",
      "{'': 353,\n",
      " 'Book-Rating': 8,\n",
      " 'ISBN': 3596214629,\n",
      " 'User-ID': 276994,\n",
      " '_id': ObjectId('6572994e38e0654519517cf2')}\n",
      "\n",
      " Example of a record within 'users' collection:\n",
      "{'': 11,\n",
      " 'Location': 'united states',\n",
      " 'User-ID': 12,\n",
      " '_id': ObjectId('6572994e599371f4406433a5')}\n",
      "\n",
      " Example of a record within 'geodata' collection:\n",
      "{'': 9,\n",
      " 'Lat': 50.6288684,\n",
      " 'Long': 3.785318028,\n",
      " '_id': ObjectId('6572994ee75361178346e3a2'),\n",
      " 'country': 'austria'}\n"
>>>>>>> Stashed changes
     ]
    }
   ],
   "source": [
    "print(\"Example of a record within 'books' collection: \")\n",
    "pprint(books.find_one({}))\n",
    "print(\"\\n Example of a record within 'ratings' collection:\")\n",
    "pprint(ratings.find_one({}))\n",
    "print(\"\\n Example of a record within 'users' collection:\")\n",
    "pprint(users.find_one({}))\n",
    "print(\"\\n Example of a record within 'geodata' collection:\")\n",
    "pprint(geodata.find_one({}))"
   ]
  },
  {
   "cell_type": "code",
   "execution_count": 10,
   "id": "35e62f12",
   "metadata": {},
   "outputs": [],
   "source": [
    "# merge all the data\n",
    "pipeline = [{\n",
    "    '$lookup': {\n",
    "      'from': 'geodata',\n",
    "      'localField': 'Location',\n",
    "      'foreignField': 'country',\n",
    "      'as': 'geo_data'\n",
    "    }},\n",
    "    {\n",
    "    '$project': {\n",
    "      '_id': 0,\n",
    "      'Age': 1,\n",
    "      'Location': 1,\n",
    "      'User-ID': 1,\n",
    "      'Geo-Data': { '$arrayElemAt': ['$geo_data', 0]}\n",
    "    }}]\n",
    "\n",
    "merged_users_geo_cursor=users.aggregate(pipeline)\n",
    "\n",
    "for i in merged_users_geo_cursor:\n",
    "    db['merged_users_geo'].insert_one(i)\n",
    "\n",
    "pipeline = [{\n",
    "    '$lookup': {\n",
    "      'from': 'merged_users_geo',\n",
    "      'localField': 'User-ID',\n",
    "      'foreignField': 'User-ID',\n",
    "      'as': 'user_data'\n",
    "    }},\n",
    "    {\n",
    "    '$project': {\n",
    "      '_id': 0,\n",
    "      'Book-Rating': 1,\n",
    "      'ISBN': 1,\n",
    "      'User-ID': 1,\n",
    "      'User':  { '$arrayElemAt': ['$user_data', 0] }\n",
    "    }}]\n",
    "\n",
    "merged_ratings_users_cursor=ratings.aggregate(pipeline)\n",
    "\n",
    "for i in merged_ratings_users_cursor:\n",
    "    db['merged_ratings_users'].insert_one(i)\n",
    "    \n",
    "pipeline = [{\n",
    "    '$lookup': {\n",
    "      'from': 'merged_ratings_users',\n",
    "      'localField': 'ISBN',\n",
    "      'foreignField': 'ISBN',\n",
    "      'as': 'book_ratings_users'\n",
    "    }\n",
    "  },\n",
    "  {\n",
    "    '$project': {\n",
    "      '_id': 0,\n",
    "      'Book-Author': 1,\n",
    "      'Book-Title': 1,\n",
    "      'ISBN': 1,\n",
    "      'Publisher': 1,\n",
    "      'Year-Of-Publication': 1,\n",
    "      'Ratings': \"$book_ratings_users\"\n",
    "    }\n",
    "  },\n",
    "    {'$unset':['Ratings._id', 'Ratings.User._id', 'Ratings.User.Geo-Data._id']}\n",
    "]\n",
    "merged_cursor=books.aggregate(pipeline)\n",
    "\n",
    "for i in merged_cursor:\n",
    "    db['merged'].insert_one(i)\n",
    "merged=db['merged']\n",
    "    "
   ]
  },
  {
   "cell_type": "code",
   "execution_count": 11,
   "id": "f59855ce",
   "metadata": {},
   "outputs": [
    {
     "name": "stdout",
     "output_type": "stream",
     "text": [
      "Example of a record within 'merged' collection:\n",
      "{'Book-Author': 'Mark P. O. Morford',\n",
      " 'Book-Title': 'Classical Mythology',\n",
      " 'ISBN': 195153448,\n",
      " 'Publisher': 'Oxford University Press',\n",
      " 'Ratings': [],\n",
      " 'Year-Of-Publication': 2002,\n",
<<<<<<< Updated upstream
      " '_id': ObjectId('6571f922035384a96f18f23b')}\n"
=======
      " '_id': ObjectId('6572995083972156e2c7a505')}\n"
>>>>>>> Stashed changes
     ]
    }
   ],
   "source": [
    "print(\"Example of a record within 'merged' collection:\")\n",
    "pprint(merged.find_one({}))"
   ]
  },
  {
   "cell_type": "code",
   "execution_count": 12,
   "id": "2b868ecc",
   "metadata": {},
   "outputs": [
    {
     "data": {
      "text/plain": [
<<<<<<< Updated upstream
       "['users',\n",
       " 'merged_ratings_users',\n",
       " 'merged',\n",
       " 'books',\n",
       " 'merged_users_geo',\n",
       " 'ratings',\n",
       " 'geodata']"
=======
       "['merged',\n",
       " 'books',\n",
       " 'merged_ratings_users',\n",
       " 'merged_users_geo',\n",
       " 'ratings',\n",
       " 'geodata',\n",
       " 'users']"
>>>>>>> Stashed changes
      ]
     },
     "execution_count": 12,
     "metadata": {},
     "output_type": "execute_result"
    }
   ],
   "source": [
    "db.list_collection_names()"
   ]
  },
  {
   "cell_type": "code",
   "execution_count": null,
   "id": "d974f09d",
   "metadata": {},
   "outputs": [],
   "source": []
  }
 ],
 "metadata": {
  "kernelspec": {
   "display_name": "Python 3 (ipykernel)",
   "language": "python",
   "name": "python3"
  },
  "language_info": {
   "codemirror_mode": {
    "name": "ipython",
    "version": 3
   },
   "file_extension": ".py",
   "mimetype": "text/x-python",
   "name": "python",
   "nbconvert_exporter": "python",
   "pygments_lexer": "ipython3",
   "version": "3.11.5"
  }
 },
 "nbformat": 4,
 "nbformat_minor": 5
}
