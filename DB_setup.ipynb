{
 "cells": [
  {
   "cell_type": "markdown",
   "id": "064ef857",
   "metadata": {},
   "source": [
    "## Books Database Set Up"
   ]
  },
  {
   "cell_type": "code",
   "execution_count": 1,
   "id": "3ecdd008",
   "metadata": {},
   "outputs": [],
   "source": [
    "# Import dependencies\n",
    "from pymongo import MongoClient\n",
    "from pprint import pprint"
   ]
  },
  {
   "cell_type": "code",
   "execution_count": 2,
   "id": "59390c4a",
   "metadata": {},
   "outputs": [],
   "source": [
    "# Create an instance of MongoClient\n",
    "mongo = MongoClient(port=27017)"
   ]
  },
  {
   "cell_type": "code",
   "execution_count": 3,
   "id": "b4a9af91",
   "metadata": {},
   "outputs": [
    {
     "name": "stderr",
     "output_type": "stream",
     "text": [
      "2023-12-12T20:55:33.612-0500\tconnected to: mongodb://localhost/\n",
      "2023-12-12T20:55:33.616-0500\tdropping: books_db.books\n",
      "2023-12-12T20:55:34.004-0500\t7245 document(s) imported successfully. 0 document(s) failed to import.\n",
      "2023-12-12T20:55:34.708-0500\tconnected to: mongodb://localhost/\n",
      "2023-12-12T20:55:34.709-0500\tdropping: books_db.users\n",
      "2023-12-12T20:55:34.789-0500\t2517 document(s) imported successfully. 0 document(s) failed to import.\n",
      "2023-12-12T20:55:35.485-0500\tconnected to: mongodb://localhost/\n",
      "2023-12-12T20:55:35.487-0500\tdropping: books_db.ratings\n",
      "2023-12-12T20:55:35.645-0500\t6560 document(s) imported successfully. 0 document(s) failed to import.\n",
      "2023-12-12T20:55:36.346-0500\tconnected to: mongodb://localhost/\n",
      "2023-12-12T20:55:36.347-0500\tdropping: books_db.geodata\n",
      "2023-12-12T20:55:36.376-0500\t93 document(s) imported successfully. 0 document(s) failed to import.\n"
     ]
    }
   ],
   "source": [
    "!mongoimport --type csv -d books_db -c books --headerline --drop Resources/Books.csv\n",
    "!mongoimport --type csv -d books_db -c users --headerline --drop Resources/Users.csv\n",
    "!mongoimport --type csv -d books_db -c ratings --headerline --drop Resources/Ratings.csv\n",
    "!mongoimport --type csv -d books_db -c geodata --headerline --drop Resources/GeoLoc.csv"
   ]
  },
  {
   "cell_type": "code",
   "execution_count": 4,
   "id": "7f9ececa",
   "metadata": {},
   "outputs": [
    {
     "data": {
      "text/plain": [
       "['admin',\n",
       " 'autosaurus',\n",
       " 'books_db',\n",
       " 'classDB',\n",
       " 'class_DB',\n",
       " 'config',\n",
       " 'epa',\n",
       " 'fruitsDB',\n",
       " 'gardenDB',\n",
       " 'local',\n",
       " 'met',\n",
       " 'petsitly_marketing',\n",
       " 'uk_food']"
      ]
     },
     "execution_count": 4,
     "metadata": {},
     "output_type": "execute_result"
    }
   ],
   "source": [
    "# confirm that our new database was created\n",
    "mongo.list_database_names()"
   ]
  },
  {
   "cell_type": "code",
   "execution_count": 5,
   "id": "71e373c1",
   "metadata": {},
   "outputs": [],
   "source": [
    "# assign the uk_food database to a variable name\n",
    "db = mongo['books_db']"
   ]
  },
  {
   "cell_type": "code",
   "execution_count": 6,
   "id": "8037f45d",
   "metadata": {},
   "outputs": [],
   "source": [
    "collections_to_drop_list=['merged','merged_ratings_users','merged_users_geo']\n",
    "for i in collections_to_drop_list:\n",
    "    if i in db.list_collection_names():\n",
    "        db[i].drop()"
   ]
  },
  {
   "cell_type": "code",
   "execution_count": 7,
   "id": "ef1b89ed",
   "metadata": {},
   "outputs": [
    {
     "data": {
      "text/plain": [
       "['users', 'geodata', 'ratings', 'books']"
      ]
     },
     "execution_count": 7,
     "metadata": {},
     "output_type": "execute_result"
    }
   ],
   "source": [
    "# review the collections in our new database\n",
    "db.list_collection_names()"
   ]
  },
  {
   "cell_type": "code",
   "execution_count": 8,
   "id": "18ab463c",
   "metadata": {},
   "outputs": [],
   "source": [
    "# assign the collection to a variable\n",
    "books=db['books']\n",
    "ratings=db['ratings']\n",
    "users=db['users']\n",
    "geodata=db['geodata']"
   ]
  },
  {
   "cell_type": "code",
   "execution_count": 9,
   "id": "bc773df2",
   "metadata": {},
   "outputs": [
    {
     "name": "stdout",
     "output_type": "stream",
     "text": [
      "Example of a record within 'books' collection: \n",
      "{'': 14,\n",
      " 'Book-Author': 'Jack Canfield',\n",
      " 'Book-Title': \"A Second Chicken Soup For The Woman'S Soul (Chicken Soup For \"\n",
      "               'The Soul Series)',\n",
      " 'ISBN': 1558746218,\n",
      " 'Publisher': 'Health Communications',\n",
      " 'Year-Of-Publication': 1998,\n",
      " '_id': ObjectId('65790f152950d2099a2c1a7f')}\n",
      "\n",
      " Example of a record within 'ratings' collection:\n",
      "{'': 33,\n",
      " 'Book-Rating': 7,\n",
      " 'ISBN': '043935806X',\n",
      " 'User-ID': 276788,\n",
      " '_id': ObjectId('65790f1707c35d3d3a84b3fa')}\n",
      "\n",
      " Example of a record within 'users' collection:\n",
      "{'': 252,\n",
      " 'Location': 'united states',\n",
      " 'User-ID': 256,\n",
      " '_id': ObjectId('65790f163949f1507683ad02')}\n",
      "\n",
      " Example of a record within 'geodata' collection:\n",
      "{'': 9,\n",
      " 'Lat': 50.6288684,\n",
      " 'Long': 3.785318028,\n",
      " '_id': ObjectId('65790f1897d2b46da8e5be43'),\n",
      " 'country': 'austria'}\n"
     ]
    }
   ],
   "source": [
    "print(\"Example of a record within 'books' collection: \")\n",
    "pprint(books.find_one({}))\n",
    "print(\"\\n Example of a record within 'ratings' collection:\")\n",
    "pprint(ratings.find_one({}))\n",
    "print(\"\\n Example of a record within 'users' collection:\")\n",
    "pprint(users.find_one({}))\n",
    "print(\"\\n Example of a record within 'geodata' collection:\")\n",
    "pprint(geodata.find_one({}))"
   ]
  },
  {
   "cell_type": "code",
   "execution_count": 10,
   "id": "35e62f12",
   "metadata": {},
   "outputs": [],
   "source": [
    "# merge all the data\n",
    "pipeline = [{\n",
    "    '$lookup': {\n",
    "      'from': 'geodata',\n",
    "      'localField': 'Location',\n",
    "      'foreignField': 'country',\n",
    "      'as': 'geo_data'\n",
    "    }},\n",
    "    {\n",
    "    '$project': {\n",
    "      '_id': 0,\n",
    "      'Age': 1,\n",
    "      'Location': 1,\n",
    "      'User-ID': 1,\n",
    "      'Geo-Data': { '$arrayElemAt': ['$geo_data', 0]}\n",
    "    }}]\n",
    "\n",
    "merged_users_geo_cursor=users.aggregate(pipeline)\n",
    "\n",
    "for i in merged_users_geo_cursor:\n",
    "    db['merged_users_geo'].insert_one(i)\n",
    "\n",
    "pipeline = [{\n",
    "    '$lookup': {\n",
    "      'from': 'merged_users_geo',\n",
    "      'localField': 'User-ID',\n",
    "      'foreignField': 'User-ID',\n",
    "      'as': 'user_data'\n",
    "    }},\n",
    "    {\n",
    "    '$project': {\n",
    "      '_id': 0,\n",
    "      'Book-Rating': 1,\n",
    "      'ISBN': 1,\n",
    "      'User-ID': 1,\n",
    "      'User':  { '$arrayElemAt': ['$user_data', 0] }\n",
    "    }}]\n",
    "\n",
    "merged_ratings_users_cursor=ratings.aggregate(pipeline)\n",
    "\n",
    "for i in merged_ratings_users_cursor:\n",
    "    db['merged_ratings_users'].insert_one(i)\n",
    "    \n",
    "pipeline = [{\n",
    "    '$lookup': {\n",
    "      'from': 'merged_ratings_users',\n",
    "      'localField': 'ISBN',\n",
    "      'foreignField': 'ISBN',\n",
    "      'as': 'book_ratings_users'\n",
    "    }\n",
    "  },\n",
    "  {\n",
    "    '$project': {\n",
    "      '_id': 0,\n",
    "      'Book-Author': 1,\n",
    "      'Book-Title': 1,\n",
    "      'ISBN': 1,\n",
    "      'Publisher': 1,\n",
    "      'Year-Of-Publication': 1,\n",
    "      'Ratings': \"$book_ratings_users\"\n",
    "    }\n",
    "  },\n",
    "    {'$unset':['Ratings._id', 'Ratings.User._id', 'Ratings.User.Geo-Data._id']}\n",
    "]\n",
    "merged_cursor=books.aggregate(pipeline)\n",
    "\n",
    "for i in merged_cursor:\n",
    "    db['merged'].insert_one(i)\n",
    "merged=db['merged']\n",
    "    "
   ]
  },
  {
   "cell_type": "code",
   "execution_count": 11,
   "id": "f59855ce",
   "metadata": {},
   "outputs": [
    {
     "name": "stdout",
     "output_type": "stream",
     "text": [
      "Example of a record within 'merged' collection:\n",
      "{'Book-Author': 'Jack Canfield',\n",
      " 'Book-Title': \"A Second Chicken Soup For The Woman'S Soul (Chicken Soup For \"\n",
      "               'The Soul Series)',\n",
      " 'ISBN': 1558746218,\n",
      " 'Publisher': 'Health Communications',\n",
      " 'Ratings': [{'Book-Rating': 7,\n",
      "              'ISBN': 1558746218,\n",
      "              'User': {'Geo-Data': {'': 30,\n",
      "                                    'Lat': -22.1822689,\n",
      "                                    'Long': -44.68776,\n",
      "                                    'country': 'canada'},\n",
      "                       'Location': 'canada',\n",
      "                       'User-ID': 61501},\n",
      "              'User-ID': 61501},\n",
      "             {'Book-Rating': 10,\n",
      "              'ISBN': 1558746218,\n",
      "              'User': {'Geo-Data': {'': 186,\n",
      "                                    'Lat': 49.1009451,\n",
      "                                    'Long': 1.9672466,\n",
      "                                    'country': 'united states'},\n",
      "                       'Location': 'united states',\n",
      "                       'User-ID': 148514},\n",
      "              'User-ID': 148514},\n",
      "             {'Book-Rating': 10, 'ISBN': 1558746218, 'User-ID': 263256}],\n",
      " 'Year-Of-Publication': 1998,\n",
      " '_id': ObjectId('65790f1f6c8bd9d1e2e33728')}\n"
     ]
    }
   ],
   "source": [
    "print(\"Example of a record within 'merged' collection:\")\n",
    "pprint(merged.find_one({}))"
   ]
  },
  {
   "cell_type": "code",
   "execution_count": 12,
   "id": "2b868ecc",
   "metadata": {},
   "outputs": [
    {
     "data": {
      "text/plain": [
       "['users',\n",
       " 'geodata',\n",
       " 'merged_users_geo',\n",
       " 'ratings',\n",
       " 'books',\n",
       " 'merged_ratings_users',\n",
       " 'merged']"
      ]
     },
     "execution_count": 12,
     "metadata": {},
     "output_type": "execute_result"
    }
   ],
   "source": [
    "db.list_collection_names()"
   ]
  },
  {
   "cell_type": "code",
   "execution_count": null,
   "id": "d974f09d",
   "metadata": {},
   "outputs": [],
   "source": []
  }
 ],
 "metadata": {
  "kernelspec": {
   "display_name": "Python 3 (ipykernel)",
   "language": "python",
   "name": "python3"
  },
  "language_info": {
   "codemirror_mode": {
    "name": "ipython",
    "version": 3
   },
   "file_extension": ".py",
   "mimetype": "text/x-python",
   "name": "python",
   "nbconvert_exporter": "python",
   "pygments_lexer": "ipython3",
   "version": "3.11.4"
  }
 },
 "nbformat": 4,
 "nbformat_minor": 5
}
